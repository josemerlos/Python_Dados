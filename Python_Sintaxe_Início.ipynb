{
  "nbformat": 4,
  "nbformat_minor": 0,
  "metadata": {
    "colab": {
      "name": "Script Python.ipynb",
      "provenance": [],
      "toc_visible": true,
      "collapsed_sections": []
    },
    "kernelspec": {
      "name": "python3",
      "display_name": "Python 3"
    },
    "language_info": {
      "name": "python"
    }
  },
  "cells": [
    {
      "cell_type": "markdown",
      "source": [
        "### -->Programação em Python\n",
        "\n",
        "\n",
        "--> Sintaxe básica\n",
        "\n",
        "Podemos utilziar ' ' (aspas simples)\n",
        "\n",
        "Podemos utilziar \" \" (aspas duplas)\n",
        "\n",
        "Utilizando o \\n para pular uma linha na impressão do valor\n",
        "\n",
        "Usamos o hastgag # para comentar algo"
      ],
      "metadata": {
        "id": "OuU95-cgJuaa"
      }
    },
    {
      "cell_type": "code",
      "source": [
        "# Sintaxe básica\n",
        "\n",
        "print('Olá mundo')\n",
        "print(\"Bem vindo ao curso de Python\")"
      ],
      "metadata": {
        "colab": {
          "base_uri": "https://localhost:8080/"
        },
        "id": "5A_iQBcrJyq7",
        "outputId": "e03b3196-7e1d-4396-f514-6266b68820f3"
      },
      "execution_count": null,
      "outputs": [
        {
          "output_type": "stream",
          "name": "stdout",
          "text": [
            "Olá mundo\n",
            "Bem vindo ao curso de Python\n"
          ]
        }
      ]
    },
    {
      "cell_type": "code",
      "source": [
        "'''\n",
        "\n",
        "Teste de bloco de comentário de código\n",
        "\n",
        "'''\n",
        "\n",
        "print(\"Olá mundão! \\n Bora pular a linha e \\n mais uma\")"
      ],
      "metadata": {
        "colab": {
          "base_uri": "https://localhost:8080/"
        },
        "id": "clbxiZI8MvkQ",
        "outputId": "e749270c-6f63-41f2-d394-3a71a10d9b38"
      },
      "execution_count": null,
      "outputs": [
        {
          "output_type": "stream",
          "name": "stdout",
          "text": [
            "Olá mundão! \n",
            " Bora pular a linha e \n",
            " mais uma\n"
          ]
        }
      ]
    },
    {
      "cell_type": "markdown",
      "source": [
        "### --> Operadores Matemáticos \n",
        "\n",
        "\n"
      ],
      "metadata": {
        "id": "nOgqODlQMDpM"
      }
    },
    {
      "cell_type": "markdown",
      "source": [
        "Os operadores são usados ​​para realizar operações em variáveis ​​e valores:\n",
        "\n",
        "Soma\n",
        "\n",
        "Subtração\n",
        "\n",
        "Multiplicação\n",
        "\n",
        "Divisão\n",
        "\n",
        "Exponenciação\n",
        "\n",
        "Resto da Divisão\n",
        "\n",
        "Divisão de Chão\n",
        "\n",
        "\n",
        "---\n",
        "\n"
      ],
      "metadata": {
        "id": "IdNRnQcPNaaC"
      }
    },
    {
      "cell_type": "code",
      "source": [
        "# Soma\n",
        "\n",
        "1 + 3 + 4"
      ],
      "metadata": {
        "colab": {
          "base_uri": "https://localhost:8080/"
        },
        "id": "VN9BiEb0LPyu",
        "outputId": "78a26b2c-c85d-4d9c-83f3-504ffc0e2ea5"
      },
      "execution_count": null,
      "outputs": [
        {
          "output_type": "execute_result",
          "data": {
            "text/plain": [
              "8"
            ]
          },
          "metadata": {},
          "execution_count": 11
        }
      ]
    },
    {
      "cell_type": "code",
      "source": [
        "# Subtração \n",
        "\n",
        "4 - 4"
      ],
      "metadata": {
        "colab": {
          "base_uri": "https://localhost:8080/"
        },
        "id": "PqLxkcEzNbjh",
        "outputId": "41190dd4-5f08-472e-d4a5-6c68d456dc85"
      },
      "execution_count": null,
      "outputs": [
        {
          "output_type": "execute_result",
          "data": {
            "text/plain": [
              "0"
            ]
          },
          "metadata": {},
          "execution_count": 12
        }
      ]
    },
    {
      "cell_type": "code",
      "source": [
        "# Multiplicação \n",
        "\n",
        "4 * 4"
      ],
      "metadata": {
        "colab": {
          "base_uri": "https://localhost:8080/"
        },
        "id": "1gF5HDHKN0WY",
        "outputId": "af4fc2d8-e60c-4840-93f2-f67a85b129b5"
      },
      "execution_count": null,
      "outputs": [
        {
          "output_type": "execute_result",
          "data": {
            "text/plain": [
              "16"
            ]
          },
          "metadata": {},
          "execution_count": 13
        }
      ]
    },
    {
      "cell_type": "code",
      "source": [
        "# Divisão\n",
        "\n",
        "4 / 4"
      ],
      "metadata": {
        "colab": {
          "base_uri": "https://localhost:8080/"
        },
        "id": "DLKVqsMUN6RO",
        "outputId": "25aa55bf-26b8-473b-ddb0-5b0a71ef9c16"
      },
      "execution_count": null,
      "outputs": [
        {
          "output_type": "execute_result",
          "data": {
            "text/plain": [
              "1.0"
            ]
          },
          "metadata": {},
          "execution_count": 14
        }
      ]
    },
    {
      "cell_type": "code",
      "source": [
        "# Exponenciação \n",
        "\n",
        "2 ** 3 # ( 2 x 2 x 2)"
      ],
      "metadata": {
        "colab": {
          "base_uri": "https://localhost:8080/"
        },
        "id": "Xg00gqWzN993",
        "outputId": "ceca888e-5551-440a-c87f-f06acab454fe"
      },
      "execution_count": null,
      "outputs": [
        {
          "output_type": "execute_result",
          "data": {
            "text/plain": [
              "8"
            ]
          },
          "metadata": {},
          "execution_count": 15
        }
      ]
    },
    {
      "cell_type": "code",
      "source": [
        "# Resto da divisão\n",
        "\n",
        "3 % 4"
      ],
      "metadata": {
        "colab": {
          "base_uri": "https://localhost:8080/"
        },
        "id": "l2mxh6NAOIv_",
        "outputId": "4d1d1ad4-9386-4894-ecfd-dfaea0b621ce"
      },
      "execution_count": null,
      "outputs": [
        {
          "output_type": "execute_result",
          "data": {
            "text/plain": [
              "3"
            ]
          },
          "metadata": {},
          "execution_count": 10
        }
      ]
    },
    {
      "cell_type": "code",
      "source": [
        "# Divisão de chão\n",
        "\n",
        "3 // 4"
      ],
      "metadata": {
        "colab": {
          "base_uri": "https://localhost:8080/"
        },
        "id": "jHB8DSPpORHq",
        "outputId": "e58cf602-8f05-4c5f-e9e8-9e0ec1887ab2"
      },
      "execution_count": null,
      "outputs": [
        {
          "output_type": "execute_result",
          "data": {
            "text/plain": [
              "0"
            ]
          },
          "metadata": {},
          "execution_count": 16
        }
      ]
    },
    {
      "cell_type": "code",
      "source": [
        "# Priorização\n",
        "\n",
        "( 2 + 2 ) * 5"
      ],
      "metadata": {
        "colab": {
          "base_uri": "https://localhost:8080/"
        },
        "id": "kL4uh9kXO0zZ",
        "outputId": "6f8519cf-4aa1-4664-a24a-1e4bfe7d6671"
      },
      "execution_count": null,
      "outputs": [
        {
          "output_type": "execute_result",
          "data": {
            "text/plain": [
              "20"
            ]
          },
          "metadata": {},
          "execution_count": 17
        }
      ]
    },
    {
      "cell_type": "markdown",
      "source": [
        "## -->Variáveis \n",
        "\n",
        "Variáveis ​​são contêineres para armazenar valores de dados.\n",
        "\n",
        "Uma variável é criada no momento em que você atribui um valor a ela."
      ],
      "metadata": {
        "id": "VFXi4EL7PO8E"
      }
    },
    {
      "cell_type": "code",
      "source": [
        "Soma = 2 + 2\n",
        "Subtracao = 2 - 1\n",
        "Multiplicacao = 2 * 2\n",
        "Divisao = int(2 / 2)\n",
        "Potenciacao = 2 ** 2\n",
        "Resto = 9 % 4\n",
        "\n",
        "Boolean1 = True\n",
        "Boolean2 = False\n",
        "\n",
        "print(Soma , 'oi' , Subtracao)\n",
        "\n",
        "Nome = \"José\"\n",
        "Nome2 = str(\"212120101\") # Independente de qualquer coisa será string\n",
        "\n",
        "print(\"{}, {}\\n\\n\" .format(Nome, Nome2))\n",
        "\n",
        "var_inteiro01 = int(100);\n",
        "var_flutuante01 = float(100)\n",
        "\n",
        "\n",
        "\n",
        "print(\"Varios elementos: \\n {}, {},  {}, {}\" .format(Soma, Subtracao, Multiplicacao, Divisao))\n",
        "print(\"O resultado da subtração é:\" , Subtracao)\n",
        "print( f'Multiplacação: {Multiplicacao}' )\n",
        "print( 'Resto da divisão:: {}'.format( Resto ) )\n",
        "\n",
        "print(\"Inteiro e flutuante: {}, {}\" .format(var_inteiro01 ,var_flutuante01 ))\n",
        "print(Boolean1,Boolean2)\n"
      ],
      "metadata": {
        "colab": {
          "base_uri": "https://localhost:8080/"
        },
        "id": "iFhgUvZeQMPk",
        "outputId": "48ae41c3-4425-4fb5-83ef-a5b464c573d5"
      },
      "execution_count": null,
      "outputs": [
        {
          "output_type": "stream",
          "name": "stdout",
          "text": [
            "4 oi 1\n",
            "José, 212120101\n",
            "\n",
            "\n",
            "Varios elementos: \n",
            " 4, 1,  4, 1\n",
            "O resultado da subtração é: 1\n",
            "Multiplacação: 4\n",
            "Resto da divisão:: 1\n",
            "Inteiro e flutuante: 100, 100.0\n",
            "True False\n"
          ]
        }
      ]
    },
    {
      "cell_type": "markdown",
      "source": [
        "## Tipos de Dados # (Armazenar sequência de dados)\n",
        "\n",
        "\n",
        "Listas - São criadas usando [ ] (Colchetes)\n",
        "\n",
        "Tuplas - São criadas usando ( ) (Parenteses)\n",
        "\n",
        "Dicionários - São criadas usando { } (Chaves)\n",
        "\n",
        "Esses tipos de dados podem receber qualquer tipo de informação, inclusive Operações Aritméticas"
      ],
      "metadata": {
        "id": "6TIkPRbgJQaG"
      }
    },
    {
      "cell_type": "code",
      "source": [
        "# Listas\n",
        "\n",
        "Lista_Exemplo_01 = [1,2,3,4,5,6,7,8]\n",
        "Lista_Exemplo_02 = ['Nome', 'Sobrenome', 5, True]\n",
        "Lista_Exemplo_03 = [1, 'Nome', 'Sobrenome', 3, True, [1,2,3, False]]\n",
        "\n",
        "print(Lista_Exemplo_01)\n",
        "print(Lista_Exemplo_02)\n",
        "print(Lista_Exemplo_03, '\\n \\n \\n' )\n",
        "\n",
        "\n",
        "# Tuplas --> São imutáveis\n",
        "\n",
        "Tupla_Exemplo_01 = (1,2,3,4,5,6,7,8)\n",
        "Tupla_Exemplo_02 = ('Nome', 'Sobrenome', 5, True)\n",
        "\n",
        "print(Tupla_Exemplo_01)\n",
        "print(Tupla_Exemplo_02 , '\\n \\n \\n')\n",
        "\n",
        "\n",
        "# Dicionários\n",
        "\n",
        "Dicionario = {\n",
        "    'Index' : 'Valor',\n",
        "    'Id'    : 1,\n",
        "    'Id'    : 2,\n",
        "    'Lista' : Lista_Exemplo_03,\n",
        "    'Tupla' : Lista_Exemplo_03\n",
        "}\n",
        "\n",
        "print(Dicionario)\n"
      ],
      "metadata": {
        "colab": {
          "base_uri": "https://localhost:8080/"
        },
        "id": "1MGiGoOZJUJd",
        "outputId": "66baf218-51a0-419d-90e0-8237bc57c050"
      },
      "execution_count": null,
      "outputs": [
        {
          "output_type": "stream",
          "name": "stdout",
          "text": [
            "[1, 2, 3, 4, 5, 6, 7, 8]\n",
            "['Nome', 'Sobrenome', 5, True]\n",
            "[1, 'Nome', 'Sobrenome', 3, True, [1, 2, 3, False]] \n",
            " \n",
            " \n",
            "\n",
            "(1, 2, 3, 4, 5, 6, 7, 8)\n",
            "('Nome', 'Sobrenome', 5, True) \n",
            " \n",
            " \n",
            "\n",
            "{'Index': 'Valor', 'Id': 2, 'Lista': [1, 'Nome', 'Sobrenome', 3, True, [1, 2, 3, False]], 'Tupla': [1, 'Nome', 'Sobrenome', 3, True, [1, 2, 3, False]]}\n"
          ]
        }
      ]
    },
    {
      "cell_type": "markdown",
      "source": [
        "## Nomeação de Variáveis # Nova seção\n",
        "\n",
        "\n",
        "Podemos nomear variáveis e tipos de dados de diversas formas:\n",
        "\n",
        "Declarar as variáveis em uma única linha de comando;\n",
        "\n",
        "Atribuir um valor à diversas variáveis;\n",
        "\n",
        "Declarar usando uma Lista;\n",
        "\n",
        "Combinar variáveis;\n",
        "\n",
        "Operar com operadores matemáticos;\n",
        "\n",
        "Muitos outros."
      ],
      "metadata": {
        "id": "smo7G-ba0V0S"
      }
    },
    {
      "cell_type": "code",
      "source": [
        "Laranja, Melao, Limao = 1 , 2,  3   # Atribuição de valor sequencial, ao invés de fazer uma em cada linha\n",
        "Morango = Kiwi = Uva = 100  # Atribuição igualitária para todas as variáveis\n",
        "\n",
        "\n",
        "\n",
        "print('Atribuição sequencial: {}, {}, {} ' .format(Laranja, Melao, Limao))\n",
        "\n",
        "print('Atribuição igualitária para todas as variáveis: {}, {}, {} ' .format(Morango , Kiwi , Uva))\n",
        "\n",
        "\n",
        "\n",
        "# Nomear com listas\n",
        "\n",
        "Lista_carros = ['Pálio ', 'Uno', 'HB20']\n",
        "Marca_01, Marca_02, Marca_03 = Lista_carros\n",
        "\n",
        "print('Valor sequencial com lista: {}, {}, {} ' .format(Marca_01, Marca_02, Marca_03) , '\\n \\n')\n",
        "\n",
        "\n",
        "\n",
        "# Combinar variáveis \n",
        "\n",
        "Nome = 'Odemir'\n",
        "Sobrenome = 'Depieri'\n",
        "Idade = 29\n",
        "\n",
        "Nome_completo = Nome + ' ' + Sobrenome + '\\n'\n",
        "print(Nome_completo)\n",
        "\n",
        "# Experimento\n",
        "print(Nome + ' ' + str(Idade) + ' anos.\\n')\n",
        "\n",
        "\n",
        "\n",
        "Investimento = 100\n",
        "taxa_juros = float('0.2')\n",
        "\n",
        "print(Investimento * taxa_juros)\n",
        "\n",
        "Valor_Ganhado = (Investimento * taxa_juros) + Investimento\n",
        "\n",
        "print('Valor total = ' , Valor_Ganhado)\n",
        "\n",
        "\n",
        "\n",
        "\n",
        "\n",
        "\n"
      ],
      "metadata": {
        "colab": {
          "base_uri": "https://localhost:8080/"
        },
        "id": "KtSkEas80Z6p",
        "outputId": "a3911681-d7f7-4cd6-f64d-c526fc714689"
      },
      "execution_count": null,
      "outputs": [
        {
          "output_type": "stream",
          "name": "stdout",
          "text": [
            "Atribuição sequencial: 1, 2, 3 \n",
            "Atribuição igualitária para todas as variáveis: 100, 100, 100 \n",
            "Valor sequencial com lista: Pálio , Uno, HB20  \n",
            " \n",
            "\n",
            "Odemir Depieri\n",
            "\n",
            "Odemir 29 anos.\n",
            "\n",
            "20.0\n",
            "Valor total =  120.0\n"
          ]
        }
      ]
    },
    {
      "cell_type": "markdown",
      "source": [
        "## Tipo da Informação \n",
        "\n",
        "Na programação, o tipo de dados é um conceito importante. Variáveis ​​podem armazenar dados de diferentes tipos, e diferentes tipos podem fazer coisas diferentes. O Python tem os seguintes tipos de dados integrados por padrão, nestas categorias:\n",
        "\n",
        "\n",
        "Text Type: str\n",
        "\n",
        "Numeric Types: int, float, complex\n",
        "\n",
        "Sequence Types: list, tuple, range\n",
        "\n",
        "Mapping Type: dict\n",
        "\n",
        "Set Types: set, frozenset\n",
        "\n",
        "Boolean Type: bool\n",
        "\n",
        "Binary Types: bytes, bytearray, memoryview\n",
        "\n"
      ],
      "metadata": {
        "id": "1x2pmlkbtkbS"
      }
    },
    {
      "cell_type": "code",
      "source": [
        "String = str('Olá mundo')    #Sempre entender os tipos de informacao para saber como trabalhar com ela\n",
        "Inteiro = int(10)\n",
        "Flutuante = float(10.5)\n",
        "Complex = complex(1j)\n",
        "Lista = list(('Maca', 'Morango'))\n",
        "tupla = tuple(('A', 'B'))\n",
        "Range = range(6)\n",
        "Dicionario = dict(nome='Odemir', age=29)\n",
        "Set = set(('A', 'B','C'))\n",
        "Fronzet = frozenset(('A', 'B','C'))\n",
        "Boleano = bool(5)\n",
        "Bytes = bytes(5)\n",
        "ByteArray = bytearray(5)\n",
        "Memoryview = memoryview(bytes(5))\n",
        "\n",
        "from datetime import datetime\n",
        "Data = datetime.today().date()\n",
        "\n",
        "type (String) # printa o tipo da variável\n"
      ],
      "metadata": {
        "id": "c4NoGvZrtoV7",
        "colab": {
          "base_uri": "https://localhost:8080/"
        },
        "outputId": "3460392e-4447-4342-e82c-17cdd68c9222"
      },
      "execution_count": null,
      "outputs": [
        {
          "output_type": "execute_result",
          "data": {
            "text/plain": [
              "str"
            ]
          },
          "metadata": {},
          "execution_count": 6
        }
      ]
    },
    {
      "cell_type": "markdown",
      "source": [
        "## Comando Round # Nova secção\n",
        "\n",
        "Quando trabalhamos com números flutuantes, podemos arredondar o valor usando um comando nativo do python\n",
        "\n",
        "round(valor, número de casas)"
      ],
      "metadata": {
        "id": "dYgC32OPNyLR"
      }
    },
    {
      "cell_type": "code",
      "source": [
        "Flutuante, Flutuante2, Flutuante3 = 10.00000000, 50.523548478546546461651465416516516, 100.03211\n",
        "\n",
        "print(round(Flutuante, 2))\n",
        "print(round(Flutuante2, 3))\n",
        "print(round(Flutuante3, 2))\n"
      ],
      "metadata": {
        "colab": {
          "base_uri": "https://localhost:8080/"
        },
        "id": "QyGSc14KOGoW",
        "outputId": "a672f06c-3c93-48a2-abb6-b74085f3219d"
      },
      "execution_count": null,
      "outputs": [
        {
          "output_type": "stream",
          "name": "stdout",
          "text": [
            "10.0\n",
            "50.524\n",
            "100.03\n"
          ]
        }
      ]
    },
    {
      "cell_type": "markdown",
      "source": [
        "## Comando Len # \n",
        "\n",
        "A funcao len() retorna a quantidade de elementos de qualquer lista em python, essa é uma funcao built-in e disponivel em qualquer parte do nosso código"
      ],
      "metadata": {
        "id": "tr1WHoO4QsiD"
      }
    },
    {
      "cell_type": "code",
      "source": [
        "Lista = [1,2,3,4,5,6,7,8,9,10]\n",
        "Dicionario = {'Nome':'Odemir', 'Idade':29}\n",
        "Tupla = (1,2,3)\n",
        "String = 'Hello World'\n",
        "\n",
        "print(len(Lista) , '\\n')\n",
        "print(len(Dicionario), '\\n')\n",
        "print(len(Tupla), '\\n')\n",
        "print(len(String), '\\n')"
      ],
      "metadata": {
        "colab": {
          "base_uri": "https://localhost:8080/"
        },
        "id": "oEa9jmtJRDzT",
        "outputId": "5900004c-8b82-45b8-9eea-f4b536812b81"
      },
      "execution_count": null,
      "outputs": [
        {
          "output_type": "stream",
          "name": "stdout",
          "text": [
            "10 \n",
            "\n",
            "2 \n",
            "\n",
            "3 \n",
            "\n",
            "11 \n",
            "\n"
          ]
        }
      ]
    },
    {
      "cell_type": "markdown",
      "source": [
        "## Fatiamento de Strings\n",
        "\n",
        "Strings são listas de bytes represetando caracteres.\n",
        "\n",
        "Podemos acessar suas posições usando Colchetes\n",
        "\n",
        "String [Posição Inicial: Posição Final]"
      ],
      "metadata": {
        "id": "gbRyh-zu5KFM"
      }
    },
    {
      "cell_type": "code",
      "source": [
        "Minha_String2 = ['Aprender Python é topzera']\n",
        "\n",
        "print(type(Minha_String2))\n",
        "print(len(Minha_String2) , '\\n \\n')\n",
        "\n",
        "Minha_String = 'Aprender Python é topzera'\n",
        "\n",
        "print(type(Minha_String))\n",
        "print(len(Minha_String), '\\n \\n')\n",
        "\n",
        "\n",
        "print(Minha_String[0])\n",
        "print(Minha_String[1])\n",
        "\n",
        "print(Minha_String[-1]) # Inverte na posição\n",
        "print(Minha_String[-10])\n",
        "\n",
        "print(Minha_String[-10:]) # Range de seleção . a partir....\n",
        "\n",
        "print(Minha_String[0:10], '\\n \\n')\n",
        "\n",
        "\n",
        "\n",
        "CPF = 'CPF:22556987456'\n",
        "print(CPF[4:15])\n",
        "print(CPF[-11:]) # Ou as 11 últimas posições\n",
        "\n",
        "\n",
        "\n",
        "\n",
        "\n"
      ],
      "metadata": {
        "colab": {
          "base_uri": "https://localhost:8080/"
        },
        "id": "cBRmrlv15ee8",
        "outputId": "0c02e45d-e858-4e70-f743-dec174b6b6f0"
      },
      "execution_count": null,
      "outputs": [
        {
          "output_type": "stream",
          "name": "stdout",
          "text": [
            "<class 'list'>\n",
            "1 \n",
            " \n",
            "\n",
            "<class 'str'>\n",
            "25 \n",
            " \n",
            "\n",
            "A\n",
            "p\n",
            "a\n",
            " \n",
            " é topzera\n",
            "Aprender P \n",
            " \n",
            "\n",
            "22556987456\n",
            "22556987456\n"
          ]
        }
      ]
    },
    {
      "cell_type": "markdown",
      "source": [
        "#  Manipulação de Strings<p>\n",
        "Um tipo de dados bastante usado no dia a dia são as strings, ou cadeias de caracteres (ou sequências de caracteres). O tipo de dados string, ou str como é chamado em Python, possui várias operações úteis associadas a ele. Essas operações tornam Python uma linguagem bastante propícia para manipulação de textos.\n",
        "Algumas funções mais utilizadas:\n",
        "\n",
        "1. replace()\n",
        "2. startswith()\n",
        "3. endswith()\n",
        "4. count()\n",
        "5. capitalize()\n",
        "6. isdigit()\n",
        "7. isalnum()\n",
        "8. upper()\n",
        "9. lower()\n",
        "10. find ()\n",
        "11. strip()\n",
        "12. split()# Nova seção"
      ],
      "metadata": {
        "id": "MnmJTl2gg0HF"
      }
    },
    {
      "cell_type": "code",
      "source": [
        "String = \"Olá mundão!\"\n",
        "\n",
        "print(String)\n",
        "print(len(String))\n",
        "print(type(String))\n",
        "\n",
        "print(String + ' Concatenei')\n",
        "\n",
        "# Replace --> Substituir algo\n",
        "\n",
        "print(String.replace('mundão' , 'mundo'))\n",
        "\n",
        "CPF = 'CPF:15448752365'\n",
        "CPF = CPF.replace('CPF:','')\n",
        "print(CPF)\n",
        "\n",
        "\n",
        "\n",
        "# startswith --> Quero saber se minha string começa com alguma coisa (Booleano) - verifica sempre o começo\n",
        "\n",
        "print(String.startswith('Olá'))\n",
        "print(String.startswith('Ola'))\n",
        "\n",
        "\n",
        "# endswith --> Quero saber se minha string termina com alguma coisa (Booleano) - verifica sempre o fim\n",
        "\n",
        "print(String.endswith('mundão!'))\n",
        "\n",
        "\n",
        "\n",
        "# count - Contar palavras ou letras\n",
        "\n",
        "print(String.count('m'))\n",
        "\n",
        "\n",
        "# capitalize() Transformação nos textos --> Letra maiuscula no inicio\n",
        "\n",
        "Nome = 'josé'\n",
        "print(Nome.capitalize())\n",
        "\n",
        "\n",
        "# isdigit() Verificar se existe valor numérico - APENAS (Se tem digitos ou se esta vazio) - Com letra retorna false\n",
        "\n",
        "teste2 = '87454646464'\n",
        "print(CPF.isdigit())\n",
        "print(teste2.isdigit())\n",
        "\n",
        "\n",
        "# isalnum() tem que ter letras e numeros para ser true\n",
        "\n",
        "teste = 'aaaaaadgfg'\n",
        "\n",
        "print(String.isalnum())\n",
        "print(CPF.isalnum())\n",
        "print(teste.isalnum())\n"
      ],
      "metadata": {
        "colab": {
          "base_uri": "https://localhost:8080/"
        },
        "id": "t1kLgwhXhLRu",
        "outputId": "e5927c4b-f9ff-4306-e2b4-079d92de9287"
      },
      "execution_count": 27,
      "outputs": [
        {
          "output_type": "stream",
          "name": "stdout",
          "text": [
            "Olá mundão!\n",
            "11\n",
            "<class 'str'>\n",
            "Olá mundão! Concatenei\n",
            "Olá mundo!\n",
            "15448752365\n",
            "True\n",
            "False\n",
            "True\n",
            "1\n",
            "José\n",
            "True\n",
            "True\n",
            "False\n",
            "True\n",
            "True\n"
          ]
        }
      ]
    },
    {
      "cell_type": "code",
      "source": [
        "# upper() Deixa tudo maiusculo\n",
        "\n",
        "nome = 'odemir'\n",
        "\n",
        "print(nome.upper())\n",
        "\n",
        "\n",
        "#  lower() Deixa tudo minusculo\n",
        "nome2 = 'ODEMIR'\n",
        "\n",
        "print(nome2.lower())"
      ],
      "metadata": {
        "colab": {
          "base_uri": "https://localhost:8080/"
        },
        "id": "m2k4hhSuxFOH",
        "outputId": "20f5b9c2-d93d-46a6-dd6e-f19fd5a73579"
      },
      "execution_count": 31,
      "outputs": [
        {
          "output_type": "stream",
          "name": "stdout",
          "text": [
            "ODEMIR\n",
            "odemir\n"
          ]
        }
      ]
    },
    {
      "cell_type": "code",
      "source": [
        "# find () localizar algo\n",
        "\n",
        "frase = 'Hoje o dia está calor!'\n",
        "\n",
        "print(frase.find('dia'))  # palavra dia começa a partir da 7 posição\n",
        "\n",
        "print(frase.find('zzzzzz')) # retorna -1 pois não existe na variável"
      ],
      "metadata": {
        "colab": {
          "base_uri": "https://localhost:8080/"
        },
        "id": "bBon3MNQBgeY",
        "outputId": "4b61133e-aada-4eab-8cef-b6f13baa59a4"
      },
      "execution_count": 33,
      "outputs": [
        {
          "output_type": "stream",
          "name": "stdout",
          "text": [
            "7\n",
            "-1\n"
          ]
        }
      ]
    },
    {
      "cell_type": "code",
      "source": [
        "#strip() remove espaço entre o fim e começo das palavras\n",
        "\n",
        "endereco = ' R Augusto 120, SP '\n",
        "\n",
        "endereco.strip()\n",
        "\n"
      ],
      "metadata": {
        "colab": {
          "base_uri": "https://localhost:8080/",
          "height": 35
        },
        "id": "OYWyFgs_CGBU",
        "outputId": "a45c8b61-be6f-41cf-f5ec-893459a41727"
      },
      "execution_count": 34,
      "outputs": [
        {
          "output_type": "execute_result",
          "data": {
            "text/plain": [
              "'R Augusto 120, SP'"
            ],
            "application/vnd.google.colaboratory.intrinsic+json": {
              "type": "string"
            }
          },
          "metadata": {},
          "execution_count": 34
        }
      ]
    },
    {
      "cell_type": "code",
      "source": [
        "# split() quebra a nossa string\n",
        "\n",
        "palavra = 'Rua Augusta 150, Centro, SP'\n",
        "\n",
        "print(palavra.split(','))\n",
        "print(palavra.split(' '))\n",
        "\n"
      ],
      "metadata": {
        "colab": {
          "base_uri": "https://localhost:8080/"
        },
        "id": "7DNeQVrWCZ6G",
        "outputId": "100826b9-5632-419a-88b5-ce485c0913cd"
      },
      "execution_count": 2,
      "outputs": [
        {
          "output_type": "stream",
          "name": "stdout",
          "text": [
            "['Rua Augusta 150', ' Centro', ' SP']\n",
            "['Rua', 'Augusta', '150,', 'Centro,', 'SP']\n"
          ]
        }
      ]
    },
    {
      "cell_type": "markdown",
      "source": [
        "# Comando Input\n",
        "A função input() recebe como parâmetro uma string que será mostrada como auxílio ao usuário, geralmente o informando que tipo de dado o programa está aguardando receber.\n",
        "\n",
        "input()# Nova seção"
      ],
      "metadata": {
        "id": "BLuGZvC1_dMQ"
      }
    },
    {
      "cell_type": "code",
      "source": [
        "# input\n",
        "\n",
        "input('Digite algo: ')"
      ],
      "metadata": {
        "colab": {
          "base_uri": "https://localhost:8080/",
          "height": 53
        },
        "id": "jU5PiF4t_q_A",
        "outputId": "06295cc3-e8d9-4058-8b2d-2b5d4aea06b8"
      },
      "execution_count": 31,
      "outputs": [
        {
          "name": "stdout",
          "output_type": "stream",
          "text": [
            "Digite algo: hehe\n"
          ]
        },
        {
          "output_type": "execute_result",
          "data": {
            "text/plain": [
              "'hehe'"
            ],
            "application/vnd.google.colaboratory.intrinsic+json": {
              "type": "string"
            }
          },
          "metadata": {},
          "execution_count": 31
        }
      ]
    },
    {
      "cell_type": "code",
      "source": [
        "# Form\n",
        "\n",
        "Nome = input('Qual seu nome?: ')\n",
        "Idade = input('Qual sua idade?: ')\n",
        "\n",
        "print('Seu nome é: ', Nome)\n",
        "print('Seu nome é: ', Idade)"
      ],
      "metadata": {
        "colab": {
          "base_uri": "https://localhost:8080/"
        },
        "id": "JDL4vsB3Sfo-",
        "outputId": "7a6fa6f2-9b32-47a7-dbc0-98f35a4a60b5"
      },
      "execution_count": 33,
      "outputs": [
        {
          "output_type": "stream",
          "name": "stdout",
          "text": [
            "Qual seu nome?: José\n",
            "Qual sua idade?: 27 anos\n",
            "Seu nome é:  José\n",
            "Seu nome é:  27 anos\n"
          ]
        }
      ]
    },
    {
      "cell_type": "markdown",
      "source": [
        "# Operadores de Comparação\n",
        "Os operadores de comparação são usados ​​para comparar dois valores:\n",
        "1. '==' ( Igual a )\n",
        "2. '!=' ( Diferente )\n",
        "3. '>' ( Maior )\n",
        "4. '<' ( Menor )\n",
        "5. '>=' ( Maior igual )\n",
        "6. '<=' ( Menor igual )# Nova seção"
      ],
      "metadata": {
        "id": "FFtza2Xn0WyV"
      }
    },
    {
      "cell_type": "code",
      "source": [
        "10 == 10"
      ],
      "metadata": {
        "colab": {
          "base_uri": "https://localhost:8080/"
        },
        "id": "XbH8XZw70c3n",
        "outputId": "da8cace9-4cd0-4e2f-f528-9886426f4ab8"
      },
      "execution_count": 1,
      "outputs": [
        {
          "output_type": "execute_result",
          "data": {
            "text/plain": [
              "True"
            ]
          },
          "metadata": {},
          "execution_count": 1
        }
      ]
    },
    {
      "cell_type": "code",
      "source": [
        "10 == 8"
      ],
      "metadata": {
        "colab": {
          "base_uri": "https://localhost:8080/"
        },
        "id": "1b6JrdDw1vEp",
        "outputId": "b663b9ab-a068-4b01-c42f-fb30423f6bad"
      },
      "execution_count": 2,
      "outputs": [
        {
          "output_type": "execute_result",
          "data": {
            "text/plain": [
              "False"
            ]
          },
          "metadata": {},
          "execution_count": 2
        }
      ]
    },
    {
      "cell_type": "code",
      "source": [
        "10 != 8"
      ],
      "metadata": {
        "colab": {
          "base_uri": "https://localhost:8080/"
        },
        "id": "jIn6WINJ1xS8",
        "outputId": "d980987c-7d83-430f-d29a-2052f991c01e"
      },
      "execution_count": 3,
      "outputs": [
        {
          "output_type": "execute_result",
          "data": {
            "text/plain": [
              "True"
            ]
          },
          "metadata": {},
          "execution_count": 3
        }
      ]
    },
    {
      "cell_type": "code",
      "source": [
        "10 != 10"
      ],
      "metadata": {
        "colab": {
          "base_uri": "https://localhost:8080/"
        },
        "id": "W11nHL8N10oI",
        "outputId": "59f807a9-0dd9-4300-8923-600cbdf4e412"
      },
      "execution_count": 4,
      "outputs": [
        {
          "output_type": "execute_result",
          "data": {
            "text/plain": [
              "False"
            ]
          },
          "metadata": {},
          "execution_count": 4
        }
      ]
    },
    {
      "cell_type": "code",
      "source": [
        "10 > 9"
      ],
      "metadata": {
        "colab": {
          "base_uri": "https://localhost:8080/"
        },
        "id": "sOKy4NC42NqP",
        "outputId": "c35a7f8e-651d-4da9-fa82-352a807cab16"
      },
      "execution_count": 5,
      "outputs": [
        {
          "output_type": "execute_result",
          "data": {
            "text/plain": [
              "True"
            ]
          },
          "metadata": {},
          "execution_count": 5
        }
      ]
    },
    {
      "cell_type": "code",
      "source": [
        "10 > 10"
      ],
      "metadata": {
        "colab": {
          "base_uri": "https://localhost:8080/"
        },
        "id": "83iKlSXN2VrE",
        "outputId": "d3514b88-1869-4196-ac96-f08732fce169"
      },
      "execution_count": 6,
      "outputs": [
        {
          "output_type": "execute_result",
          "data": {
            "text/plain": [
              "False"
            ]
          },
          "metadata": {},
          "execution_count": 6
        }
      ]
    },
    {
      "cell_type": "code",
      "source": [
        "10 >= 10"
      ],
      "metadata": {
        "colab": {
          "base_uri": "https://localhost:8080/"
        },
        "id": "RILbOwuC2Y72",
        "outputId": "3c85d64b-fffd-45ad-d3f4-95f029a9cf02"
      },
      "execution_count": 7,
      "outputs": [
        {
          "output_type": "execute_result",
          "data": {
            "text/plain": [
              "True"
            ]
          },
          "metadata": {},
          "execution_count": 7
        }
      ]
    },
    {
      "cell_type": "code",
      "source": [
        "10 <= 10"
      ],
      "metadata": {
        "colab": {
          "base_uri": "https://localhost:8080/"
        },
        "id": "v8yIlwhU2clV",
        "outputId": "897166e0-5d40-4bcc-ca15-0caed156eca2"
      },
      "execution_count": 8,
      "outputs": [
        {
          "output_type": "execute_result",
          "data": {
            "text/plain": [
              "True"
            ]
          },
          "metadata": {},
          "execution_count": 8
        }
      ]
    },
    {
      "cell_type": "code",
      "source": [
        "print('8 é maior que 7:', 8 > 7 )\n",
        "print('8 é menor que 7:', 8 < 7 )\n",
        "print('8 é igual 7:', 8 == 7 )\n",
        "print('10 é maior 10:', 10 > 10 )\n",
        "print('10 é maior ou igual à 10:', 10 >= 10 )\n",
        "print('10 é menor 10:', 10 < 10 )\n",
        "print('10 é menor ou igual à 10:', 10 <= 10 )"
      ],
      "metadata": {
        "colab": {
          "base_uri": "https://localhost:8080/"
        },
        "id": "CyvzS11diP2g",
        "outputId": "1db319f0-6f60-44ed-9949-16233a222bb4"
      },
      "execution_count": 1,
      "outputs": [
        {
          "output_type": "stream",
          "name": "stdout",
          "text": [
            "8 é maior que 7: True\n",
            "8 é menor que 7: False\n",
            "8 é igual 7: False\n",
            "10 é maior 10: False\n",
            "10 é maior ou igual à 10: True\n",
            "10 é menor 10: False\n",
            "10 é menor ou igual à 10: True\n"
          ]
        }
      ]
    },
    {
      "cell_type": "markdown",
      "source": [
        "# Operadores Lógicos\n",
        "Os operadores lógicos são usados ​​para combinar instruções condicionais:\n",
        "1. and (Retorna True se ambas as declarações forem verdadeiras)\n",
        "2. or (Retorna True se uma das declarações for verdadeira)# Nova seção\n",
        "3. not (Inverte o resultado, retorna false se o resultado for verdadeiro)"
      ],
      "metadata": {
        "id": "LD97odlFiIu4"
      }
    },
    {
      "cell_type": "code",
      "source": [
        "## Combinar instruções e condições - AND\n",
        "\n",
        "\n",
        "print('Veja:' , 10 > 2 and 10 > 3)\n",
        "print('Veja:' , 10 > 2 and 10 > 20)\n",
        "\n",
        "print('Veja:' , 10 > 2 and 10 > 20 and 3 == 3)\n",
        "\n",
        "\n"
      ],
      "metadata": {
        "colab": {
          "base_uri": "https://localhost:8080/"
        },
        "id": "c0q-BzO6ilr8",
        "outputId": "6e129dc9-5cd0-49f3-d362-d8795c2b9994"
      },
      "execution_count": 5,
      "outputs": [
        {
          "output_type": "stream",
          "name": "stdout",
          "text": [
            "Veja: True\n",
            "Veja: False\n"
          ]
        }
      ]
    },
    {
      "cell_type": "code",
      "source": [
        "# Or\n",
        "\n",
        "print('Veja:' , 10 > 2 or 10 > 20)\n",
        "print('Veja:' , 10 == 2 or 10 > 20)"
      ],
      "metadata": {
        "colab": {
          "base_uri": "https://localhost:8080/"
        },
        "id": "Vx6VkZ_cjv1J",
        "outputId": "84837684-6720-4434-ef56-2ff499792265"
      },
      "execution_count": 9,
      "outputs": [
        {
          "output_type": "stream",
          "name": "stdout",
          "text": [
            "Veja: True\n",
            "Veja: False\n"
          ]
        }
      ]
    },
    {
      "cell_type": "code",
      "source": [
        "# not\n",
        "\n",
        "print('Veja:' , not 10 == 2 or 10 > 20 )\n",
        "\n",
        "\n",
        "lista = [1,2,3,4]\n",
        "\n",
        "print(2 in lista)\n",
        "print(2 not in lista)\n",
        "print(10 not in lista)\n"
      ],
      "metadata": {
        "colab": {
          "base_uri": "https://localhost:8080/"
        },
        "id": "VzWZ471CkYfS",
        "outputId": "6774be2b-785f-4d04-9a5a-8eda245c3855"
      },
      "execution_count": 15,
      "outputs": [
        {
          "output_type": "stream",
          "name": "stdout",
          "text": [
            "Veja: True\n",
            "True\n",
            "False\n",
            "True\n"
          ]
        }
      ]
    },
    {
      "cell_type": "markdown",
      "source": [
        "# Operadores de Identidade\n",
        "Os operadores de identidade são usados ​​para comparar os objetos, não se forem iguais, mas se forem realmente o mesmo objeto, com a mesma localização de memória:\n",
        "1. is (Retorna True se ambas as variáveis ​​forem o mesmo objeto)\n",
        "2. is not (Retorna True se ambas as variáveis ​​não forem o mesmo objeto)"
      ],
      "metadata": {
        "id": "3oiaBR10Ry3V"
      }
    },
    {
      "cell_type": "code",
      "source": [
        "String_01, String_01 = 'Olá Mundão' , 'Olá Mundão'\n",
        "\n",
        "print(type(String_01) == type(String_01)) # mesma coisa, só sintaxe diferente\n",
        "print(type(String_01) is type(String_01)) \n",
        "print(type(String_01) is not type(String_01)) "
      ],
      "metadata": {
        "colab": {
          "base_uri": "https://localhost:8080/"
        },
        "id": "1ip8xu05R9HA",
        "outputId": "a737ca54-e970-4509-f238-4f27eba1f5e8"
      },
      "execution_count": 4,
      "outputs": [
        {
          "output_type": "stream",
          "name": "stdout",
          "text": [
            "True\n",
            "True\n",
            "False\n"
          ]
        }
      ]
    }
  ]
}