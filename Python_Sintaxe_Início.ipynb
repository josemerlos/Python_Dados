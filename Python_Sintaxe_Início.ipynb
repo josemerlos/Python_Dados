{
  "nbformat": 4,
  "nbformat_minor": 0,
  "metadata": {
    "colab": {
      "name": "Script Python.ipynb",
      "provenance": [],
      "toc_visible": true,
      "collapsed_sections": [],
      "authorship_tag": "ABX9TyMzzNIgLy+aBdBXeQGXBc5O"
    },
    "kernelspec": {
      "name": "python3",
      "display_name": "Python 3"
    },
    "language_info": {
      "name": "python"
    }
  },
  "cells": [
    {
      "cell_type": "markdown",
      "source": [
        "### -->Programação em Python\n",
        "\n",
        "\n",
        "--> Sintaxe básica\n",
        "\n",
        "Podemos utilziar ' ' (aspas simples)\n",
        "\n",
        "Podemos utilziar \" \" (aspas duplas)\n",
        "\n",
        "Utilizando o \\n para pular uma linha na impressão do valor\n",
        "\n",
        "Usamos o hastgag # para comentar algo"
      ],
      "metadata": {
        "id": "OuU95-cgJuaa"
      }
    },
    {
      "cell_type": "code",
      "source": [
        "# Sintaxe básica\n",
        "\n",
        "print('Olá mundo')\n",
        "print(\"Bem vindo ao curso de Python\")"
      ],
      "metadata": {
        "colab": {
          "base_uri": "https://localhost:8080/"
        },
        "id": "5A_iQBcrJyq7",
        "outputId": "e03b3196-7e1d-4396-f514-6266b68820f3"
      },
      "execution_count": null,
      "outputs": [
        {
          "output_type": "stream",
          "name": "stdout",
          "text": [
            "Olá mundo\n",
            "Bem vindo ao curso de Python\n"
          ]
        }
      ]
    },
    {
      "cell_type": "code",
      "source": [
        "'''\n",
        "\n",
        "Teste de bloco de comentário de código\n",
        "\n",
        "'''\n",
        "\n",
        "print(\"Olá mundão! \\n Bora pular a linha e \\n mais uma\")"
      ],
      "metadata": {
        "colab": {
          "base_uri": "https://localhost:8080/"
        },
        "id": "clbxiZI8MvkQ",
        "outputId": "e749270c-6f63-41f2-d394-3a71a10d9b38"
      },
      "execution_count": null,
      "outputs": [
        {
          "output_type": "stream",
          "name": "stdout",
          "text": [
            "Olá mundão! \n",
            " Bora pular a linha e \n",
            " mais uma\n"
          ]
        }
      ]
    },
    {
      "cell_type": "markdown",
      "source": [
        "### --> Operadores Matemáticos \n",
        "\n",
        "\n"
      ],
      "metadata": {
        "id": "nOgqODlQMDpM"
      }
    },
    {
      "cell_type": "markdown",
      "source": [
        "Os operadores são usados ​​para realizar operações em variáveis ​​e valores:\n",
        "\n",
        "Soma\n",
        "\n",
        "Subtração\n",
        "\n",
        "Multiplicação\n",
        "\n",
        "Divisão\n",
        "\n",
        "Exponenciação\n",
        "\n",
        "Resto da Divisão\n",
        "\n",
        "Divisão de Chão\n",
        "\n",
        "\n",
        "---\n",
        "\n"
      ],
      "metadata": {
        "id": "IdNRnQcPNaaC"
      }
    },
    {
      "cell_type": "code",
      "source": [
        "# Soma\n",
        "\n",
        "1 + 3 + 4"
      ],
      "metadata": {
        "colab": {
          "base_uri": "https://localhost:8080/"
        },
        "id": "VN9BiEb0LPyu",
        "outputId": "78a26b2c-c85d-4d9c-83f3-504ffc0e2ea5"
      },
      "execution_count": null,
      "outputs": [
        {
          "output_type": "execute_result",
          "data": {
            "text/plain": [
              "8"
            ]
          },
          "metadata": {},
          "execution_count": 11
        }
      ]
    },
    {
      "cell_type": "code",
      "source": [
        "# Subtração \n",
        "\n",
        "4 - 4"
      ],
      "metadata": {
        "colab": {
          "base_uri": "https://localhost:8080/"
        },
        "id": "PqLxkcEzNbjh",
        "outputId": "41190dd4-5f08-472e-d4a5-6c68d456dc85"
      },
      "execution_count": null,
      "outputs": [
        {
          "output_type": "execute_result",
          "data": {
            "text/plain": [
              "0"
            ]
          },
          "metadata": {},
          "execution_count": 12
        }
      ]
    },
    {
      "cell_type": "code",
      "source": [
        "# Multiplicação \n",
        "\n",
        "4 * 4"
      ],
      "metadata": {
        "colab": {
          "base_uri": "https://localhost:8080/"
        },
        "id": "1gF5HDHKN0WY",
        "outputId": "af4fc2d8-e60c-4840-93f2-f67a85b129b5"
      },
      "execution_count": null,
      "outputs": [
        {
          "output_type": "execute_result",
          "data": {
            "text/plain": [
              "16"
            ]
          },
          "metadata": {},
          "execution_count": 13
        }
      ]
    },
    {
      "cell_type": "code",
      "source": [
        "# Divisão\n",
        "\n",
        "4 / 4"
      ],
      "metadata": {
        "colab": {
          "base_uri": "https://localhost:8080/"
        },
        "id": "DLKVqsMUN6RO",
        "outputId": "25aa55bf-26b8-473b-ddb0-5b0a71ef9c16"
      },
      "execution_count": null,
      "outputs": [
        {
          "output_type": "execute_result",
          "data": {
            "text/plain": [
              "1.0"
            ]
          },
          "metadata": {},
          "execution_count": 14
        }
      ]
    },
    {
      "cell_type": "code",
      "source": [
        "# Exponenciação \n",
        "\n",
        "2 ** 3 # ( 2 x 2 x 2)"
      ],
      "metadata": {
        "colab": {
          "base_uri": "https://localhost:8080/"
        },
        "id": "Xg00gqWzN993",
        "outputId": "ceca888e-5551-440a-c87f-f06acab454fe"
      },
      "execution_count": null,
      "outputs": [
        {
          "output_type": "execute_result",
          "data": {
            "text/plain": [
              "8"
            ]
          },
          "metadata": {},
          "execution_count": 15
        }
      ]
    },
    {
      "cell_type": "code",
      "source": [
        "# Resto da divisão\n",
        "\n",
        "3 % 4"
      ],
      "metadata": {
        "colab": {
          "base_uri": "https://localhost:8080/"
        },
        "id": "l2mxh6NAOIv_",
        "outputId": "4d1d1ad4-9386-4894-ecfd-dfaea0b621ce"
      },
      "execution_count": null,
      "outputs": [
        {
          "output_type": "execute_result",
          "data": {
            "text/plain": [
              "3"
            ]
          },
          "metadata": {},
          "execution_count": 10
        }
      ]
    },
    {
      "cell_type": "code",
      "source": [
        "# Divisão de chão\n",
        "\n",
        "3 // 4"
      ],
      "metadata": {
        "colab": {
          "base_uri": "https://localhost:8080/"
        },
        "id": "jHB8DSPpORHq",
        "outputId": "e58cf602-8f05-4c5f-e9e8-9e0ec1887ab2"
      },
      "execution_count": null,
      "outputs": [
        {
          "output_type": "execute_result",
          "data": {
            "text/plain": [
              "0"
            ]
          },
          "metadata": {},
          "execution_count": 16
        }
      ]
    },
    {
      "cell_type": "code",
      "source": [
        "# Priorização\n",
        "\n",
        "( 2 + 2 ) * 5"
      ],
      "metadata": {
        "colab": {
          "base_uri": "https://localhost:8080/"
        },
        "id": "kL4uh9kXO0zZ",
        "outputId": "6f8519cf-4aa1-4664-a24a-1e4bfe7d6671"
      },
      "execution_count": null,
      "outputs": [
        {
          "output_type": "execute_result",
          "data": {
            "text/plain": [
              "20"
            ]
          },
          "metadata": {},
          "execution_count": 17
        }
      ]
    },
    {
      "cell_type": "markdown",
      "source": [
        "## -->Variáveis \n",
        "\n",
        "Variáveis ​​são contêineres para armazenar valores de dados.\n",
        "\n",
        "Uma variável é criada no momento em que você atribui um valor a ela."
      ],
      "metadata": {
        "id": "VFXi4EL7PO8E"
      }
    },
    {
      "cell_type": "code",
      "source": [
        "Soma = 2 + 2\n",
        "Subtracao = 2 - 1\n",
        "Multiplicacao = 2 * 2\n",
        "Divisao = int(2 / 2)\n",
        "Potenciacao = 2 ** 2\n",
        "Resto = 9 % 4\n",
        "\n",
        "Boolean1 = True\n",
        "Boolean2 = False\n",
        "\n",
        "print(Soma , 'oi' , Subtracao)\n",
        "\n",
        "Nome = \"José\"\n",
        "Nome2 = str(\"212120101\") # Independente de qualquer coisa será string\n",
        "\n",
        "print(\"{}, {}\\n\\n\" .format(Nome, Nome2))\n",
        "\n",
        "var_inteiro01 = int(100);\n",
        "var_flutuante01 = float(100)\n",
        "\n",
        "\n",
        "\n",
        "print(\"Varios elementos: \\n {}, {},  {}, {}\" .format(Soma, Subtracao, Multiplicacao, Divisao))\n",
        "print(\"O resultado da subtração é:\" , Subtracao)\n",
        "print( f'Multiplacação: {Multiplicacao}' )\n",
        "print( 'Resto da divisão:: {}'.format( Resto ) )\n",
        "\n",
        "print(\"Inteiro e flutuante: {}, {}\" .format(var_inteiro01 ,var_flutuante01 ))\n",
        "print(Boolean1,Boolean2)\n"
      ],
      "metadata": {
        "colab": {
          "base_uri": "https://localhost:8080/"
        },
        "id": "iFhgUvZeQMPk",
        "outputId": "48ae41c3-4425-4fb5-83ef-a5b464c573d5"
      },
      "execution_count": null,
      "outputs": [
        {
          "output_type": "stream",
          "name": "stdout",
          "text": [
            "4 oi 1\n",
            "José, 212120101\n",
            "\n",
            "\n",
            "Varios elementos: \n",
            " 4, 1,  4, 1\n",
            "O resultado da subtração é: 1\n",
            "Multiplacação: 4\n",
            "Resto da divisão:: 1\n",
            "Inteiro e flutuante: 100, 100.0\n",
            "True False\n"
          ]
        }
      ]
    },
    {
      "cell_type": "markdown",
      "source": [
        "## Tipos de Dados # (Armazenar sequência de dados)\n",
        "\n",
        "\n",
        "Listas - São criadas usando [ ] (Colchetes)\n",
        "\n",
        "Tuplas - São criadas usando ( ) (Parenteses)\n",
        "\n",
        "Dicionários - São criadas usando { } (Chaves)\n",
        "\n",
        "Esses tipos de dados podem receber qualquer tipo de informação, inclusive Operações Aritméticas"
      ],
      "metadata": {
        "id": "6TIkPRbgJQaG"
      }
    },
    {
      "cell_type": "code",
      "source": [
        "# Listas\n",
        "\n",
        "Lista_Exemplo_01 = [1,2,3,4,5,6,7,8]\n",
        "Lista_Exemplo_02 = ['Nome', 'Sobrenome', 5, True]\n",
        "Lista_Exemplo_03 = [1, 'Nome', 'Sobrenome', 3, True, [1,2,3, False]]\n",
        "\n",
        "print(Lista_Exemplo_01)\n",
        "print(Lista_Exemplo_02)\n",
        "print(Lista_Exemplo_03, '\\n \\n \\n' )\n",
        "\n",
        "\n",
        "# Tuplas --> São imutáveis\n",
        "\n",
        "Tupla_Exemplo_01 = (1,2,3,4,5,6,7,8)\n",
        "Tupla_Exemplo_02 = ('Nome', 'Sobrenome', 5, True)\n",
        "\n",
        "print(Tupla_Exemplo_01)\n",
        "print(Tupla_Exemplo_02 , '\\n \\n \\n')\n",
        "\n",
        "\n",
        "# Dicionários\n",
        "\n",
        "Dicionario = {\n",
        "    'Index' : 'Valor',\n",
        "    'Id'    : 1,\n",
        "    'Id'    : 2,\n",
        "    'Lista' : Lista_Exemplo_03,\n",
        "    'Tupla' : Lista_Exemplo_03\n",
        "}\n",
        "\n",
        "print(Dicionario)\n"
      ],
      "metadata": {
        "colab": {
          "base_uri": "https://localhost:8080/"
        },
        "id": "1MGiGoOZJUJd",
        "outputId": "66baf218-51a0-419d-90e0-8237bc57c050"
      },
      "execution_count": null,
      "outputs": [
        {
          "output_type": "stream",
          "name": "stdout",
          "text": [
            "[1, 2, 3, 4, 5, 6, 7, 8]\n",
            "['Nome', 'Sobrenome', 5, True]\n",
            "[1, 'Nome', 'Sobrenome', 3, True, [1, 2, 3, False]] \n",
            " \n",
            " \n",
            "\n",
            "(1, 2, 3, 4, 5, 6, 7, 8)\n",
            "('Nome', 'Sobrenome', 5, True) \n",
            " \n",
            " \n",
            "\n",
            "{'Index': 'Valor', 'Id': 2, 'Lista': [1, 'Nome', 'Sobrenome', 3, True, [1, 2, 3, False]], 'Tupla': [1, 'Nome', 'Sobrenome', 3, True, [1, 2, 3, False]]}\n"
          ]
        }
      ]
    },
    {
      "cell_type": "markdown",
      "source": [
        "## Nomeação de Variáveis # Nova seção\n",
        "\n",
        "\n",
        "Podemos nomear variáveis e tipos de dados de diversas formas:\n",
        "\n",
        "Declarar as variáveis em uma única linha de comando;\n",
        "\n",
        "Atribuir um valor à diversas variáveis;\n",
        "\n",
        "Declarar usando uma Lista;\n",
        "\n",
        "Combinar variáveis;\n",
        "\n",
        "Operar com operadores matemáticos;\n",
        "\n",
        "Muitos outros."
      ],
      "metadata": {
        "id": "smo7G-ba0V0S"
      }
    },
    {
      "cell_type": "code",
      "source": [
        "Laranja, Melao, Limao = 1 , 2,  3   # Atribuição de valor sequencial, ao invés de fazer uma em cada linha\n",
        "Morango = Kiwi = Uva = 100  # Atribuição igualitária para todas as variáveis\n",
        "\n",
        "\n",
        "\n",
        "print('Atribuição sequencial: {}, {}, {} ' .format(Laranja, Melao, Limao))\n",
        "\n",
        "print('Atribuição igualitária para todas as variáveis: {}, {}, {} ' .format(Morango , Kiwi , Uva))\n",
        "\n",
        "\n",
        "\n",
        "# Nomear com listas\n",
        "\n",
        "Lista_carros = ['Pálio ', 'Uno', 'HB20']\n",
        "Marca_01, Marca_02, Marca_03 = Lista_carros\n",
        "\n",
        "print('Valor sequencial com lista: {}, {}, {} ' .format(Marca_01, Marca_02, Marca_03) , '\\n \\n')\n",
        "\n",
        "\n",
        "\n",
        "# Combinar variáveis \n",
        "\n",
        "Nome = 'Odemir'\n",
        "Sobrenome = 'Depieri'\n",
        "Idade = 29\n",
        "\n",
        "Nome_completo = Nome + ' ' + Sobrenome + '\\n'\n",
        "print(Nome_completo)\n",
        "\n",
        "# Experimento\n",
        "print(Nome + ' ' + str(Idade) + ' anos.\\n')\n",
        "\n",
        "\n",
        "\n",
        "Investimento = 100\n",
        "taxa_juros = float('0.2')\n",
        "\n",
        "print(Investimento * taxa_juros)\n",
        "\n",
        "Valor_Ganhado = (Investimento * taxa_juros) + Investimento\n",
        "\n",
        "print('Valor total = ' , Valor_Ganhado)\n",
        "\n",
        "\n",
        "\n",
        "\n",
        "\n",
        "\n"
      ],
      "metadata": {
        "colab": {
          "base_uri": "https://localhost:8080/"
        },
        "id": "KtSkEas80Z6p",
        "outputId": "a3911681-d7f7-4cd6-f64d-c526fc714689"
      },
      "execution_count": null,
      "outputs": [
        {
          "output_type": "stream",
          "name": "stdout",
          "text": [
            "Atribuição sequencial: 1, 2, 3 \n",
            "Atribuição igualitária para todas as variáveis: 100, 100, 100 \n",
            "Valor sequencial com lista: Pálio , Uno, HB20  \n",
            " \n",
            "\n",
            "Odemir Depieri\n",
            "\n",
            "Odemir 29 anos.\n",
            "\n",
            "20.0\n",
            "Valor total =  120.0\n"
          ]
        }
      ]
    },
    {
      "cell_type": "markdown",
      "source": [
        "## Tipo da Informação \n",
        "\n",
        "Na programação, o tipo de dados é um conceito importante. Variáveis ​​podem armazenar dados de diferentes tipos, e diferentes tipos podem fazer coisas diferentes. O Python tem os seguintes tipos de dados integrados por padrão, nestas categorias:\n",
        "\n",
        "\n",
        "Text Type: str\n",
        "\n",
        "Numeric Types: int, float, complex\n",
        "\n",
        "Sequence Types: list, tuple, range\n",
        "\n",
        "Mapping Type: dict\n",
        "\n",
        "Set Types: set, frozenset\n",
        "\n",
        "Boolean Type: bool\n",
        "\n",
        "Binary Types: bytes, bytearray, memoryview\n",
        "\n"
      ],
      "metadata": {
        "id": "1x2pmlkbtkbS"
      }
    },
    {
      "cell_type": "code",
      "source": [
        "String = str('Olá mundo')    #Sempre entender os tipos de informacao para saber como trabalhar com ela\n",
        "Inteiro = int(10)\n",
        "Flutuante = float(10.5)\n",
        "Complex = complex(1j)\n",
        "Lista = list(('Maca', 'Morango'))\n",
        "tupla = tuple(('A', 'B'))\n",
        "Range = range(6)\n",
        "Dicionario = dict(nome='Odemir', age=29)\n",
        "Set = set(('A', 'B','C'))\n",
        "Fronzet = frozenset(('A', 'B','C'))\n",
        "Boleano = bool(5)\n",
        "Bytes = bytes(5)\n",
        "ByteArray = bytearray(5)\n",
        "Memoryview = memoryview(bytes(5))\n",
        "\n",
        "from datetime import datetime\n",
        "Data = datetime.today().date()\n",
        "\n",
        "type (String) # printa o tipo da variável\n"
      ],
      "metadata": {
        "id": "c4NoGvZrtoV7",
        "colab": {
          "base_uri": "https://localhost:8080/"
        },
        "outputId": "3460392e-4447-4342-e82c-17cdd68c9222"
      },
      "execution_count": null,
      "outputs": [
        {
          "output_type": "execute_result",
          "data": {
            "text/plain": [
              "str"
            ]
          },
          "metadata": {},
          "execution_count": 6
        }
      ]
    },
    {
      "cell_type": "markdown",
      "source": [
        "## Comando Round # Nova secção\n",
        "\n",
        "Quando trabalhamos com números flutuantes, podemos arredondar o valor usando um comando nativo do python\n",
        "\n",
        "round(valor, número de casas)"
      ],
      "metadata": {
        "id": "dYgC32OPNyLR"
      }
    },
    {
      "cell_type": "code",
      "source": [
        "Flutuante, Flutuante2, Flutuante3 = 10.00000000, 50.523548478546546461651465416516516, 100.03211\n",
        "\n",
        "print(round(Flutuante, 2))\n",
        "print(round(Flutuante2, 3))\n",
        "print(round(Flutuante3, 2))\n"
      ],
      "metadata": {
        "colab": {
          "base_uri": "https://localhost:8080/"
        },
        "id": "QyGSc14KOGoW",
        "outputId": "a672f06c-3c93-48a2-abb6-b74085f3219d"
      },
      "execution_count": 10,
      "outputs": [
        {
          "output_type": "stream",
          "name": "stdout",
          "text": [
            "10.0\n",
            "50.524\n",
            "100.03\n"
          ]
        }
      ]
    },
    {
      "cell_type": "markdown",
      "source": [
        "## Comando Len # Nova secção\n",
        "\n",
        "A funcao len() retorna a quantidade de elementos de qualquer lista em python, essa é uma funcao built-in e disponivel em qualquer parte do nosso código"
      ],
      "metadata": {
        "id": "tr1WHoO4QsiD"
      }
    },
    {
      "cell_type": "code",
      "source": [
        "Lista = [1,2,3,4,5,6,7,8,9,10]\n",
        "Dicionario = {'Nome':'Odemir', 'Idade':29}\n",
        "Tupla = (1,2,3)\n",
        "String = 'Hello World'\n",
        "\n",
        "print(len(Lista) , '\\n')\n",
        "print(len(Dicionario), '\\n')\n",
        "print(len(Tupla), '\\n')\n",
        "print(len(String), '\\n')"
      ],
      "metadata": {
        "colab": {
          "base_uri": "https://localhost:8080/"
        },
        "id": "oEa9jmtJRDzT",
        "outputId": "5900004c-8b82-45b8-9eea-f4b536812b81"
      },
      "execution_count": 6,
      "outputs": [
        {
          "output_type": "stream",
          "name": "stdout",
          "text": [
            "10 \n",
            "\n",
            "2 \n",
            "\n",
            "3 \n",
            "\n",
            "11 \n",
            "\n"
          ]
        }
      ]
    }
  ]
}